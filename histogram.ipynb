{
 "cells": [
  {
   "cell_type": "code",
   "execution_count": 5,
   "metadata": {},
   "outputs": [],
   "source": [
    "import pandas as pd\n",
    "import matplotlib.pyplot as plt"
   ]
  },
  {
   "cell_type": "code",
   "execution_count": 7,
   "metadata": {
    "collapsed": true
   },
   "outputs": [
    {
     "data": {
      "text/html": [
       "<div>\n",
       "<style scoped>\n",
       "    .dataframe tbody tr th:only-of-type {\n",
       "        vertical-align: middle;\n",
       "    }\n",
       "\n",
       "    .dataframe tbody tr th {\n",
       "        vertical-align: top;\n",
       "    }\n",
       "\n",
       "    .dataframe thead th {\n",
       "        text-align: right;\n",
       "    }\n",
       "</style>\n",
       "<table border=\"1\" class=\"dataframe\">\n",
       "  <thead>\n",
       "    <tr style=\"text-align: right;\">\n",
       "      <th></th>\n",
       "      <th>country</th>\n",
       "      <th>continent</th>\n",
       "      <th>year</th>\n",
       "      <th>lifeExpectancy</th>\n",
       "      <th>population</th>\n",
       "      <th>gdpPerCapita</th>\n",
       "    </tr>\n",
       "  </thead>\n",
       "  <tbody>\n",
       "    <tr>\n",
       "      <td>0</td>\n",
       "      <td>Afghanistan</td>\n",
       "      <td>Asia</td>\n",
       "      <td>1952</td>\n",
       "      <td>28.801</td>\n",
       "      <td>8425333</td>\n",
       "      <td>779.445314</td>\n",
       "    </tr>\n",
       "    <tr>\n",
       "      <td>1</td>\n",
       "      <td>Afghanistan</td>\n",
       "      <td>Asia</td>\n",
       "      <td>1957</td>\n",
       "      <td>30.332</td>\n",
       "      <td>9240934</td>\n",
       "      <td>820.853030</td>\n",
       "    </tr>\n",
       "    <tr>\n",
       "      <td>2</td>\n",
       "      <td>Afghanistan</td>\n",
       "      <td>Asia</td>\n",
       "      <td>1962</td>\n",
       "      <td>31.997</td>\n",
       "      <td>10267083</td>\n",
       "      <td>853.100710</td>\n",
       "    </tr>\n",
       "    <tr>\n",
       "      <td>3</td>\n",
       "      <td>Afghanistan</td>\n",
       "      <td>Asia</td>\n",
       "      <td>1967</td>\n",
       "      <td>34.020</td>\n",
       "      <td>11537966</td>\n",
       "      <td>836.197138</td>\n",
       "    </tr>\n",
       "    <tr>\n",
       "      <td>4</td>\n",
       "      <td>Afghanistan</td>\n",
       "      <td>Asia</td>\n",
       "      <td>1972</td>\n",
       "      <td>36.088</td>\n",
       "      <td>13079460</td>\n",
       "      <td>739.981106</td>\n",
       "    </tr>\n",
       "    <tr>\n",
       "      <td>...</td>\n",
       "      <td>...</td>\n",
       "      <td>...</td>\n",
       "      <td>...</td>\n",
       "      <td>...</td>\n",
       "      <td>...</td>\n",
       "      <td>...</td>\n",
       "    </tr>\n",
       "    <tr>\n",
       "      <td>1699</td>\n",
       "      <td>Zimbabwe</td>\n",
       "      <td>Africa</td>\n",
       "      <td>1987</td>\n",
       "      <td>62.351</td>\n",
       "      <td>9216418</td>\n",
       "      <td>706.157306</td>\n",
       "    </tr>\n",
       "    <tr>\n",
       "      <td>1700</td>\n",
       "      <td>Zimbabwe</td>\n",
       "      <td>Africa</td>\n",
       "      <td>1992</td>\n",
       "      <td>60.377</td>\n",
       "      <td>10704340</td>\n",
       "      <td>693.420786</td>\n",
       "    </tr>\n",
       "    <tr>\n",
       "      <td>1701</td>\n",
       "      <td>Zimbabwe</td>\n",
       "      <td>Africa</td>\n",
       "      <td>1997</td>\n",
       "      <td>46.809</td>\n",
       "      <td>11404948</td>\n",
       "      <td>792.449960</td>\n",
       "    </tr>\n",
       "    <tr>\n",
       "      <td>1702</td>\n",
       "      <td>Zimbabwe</td>\n",
       "      <td>Africa</td>\n",
       "      <td>2002</td>\n",
       "      <td>39.989</td>\n",
       "      <td>11926563</td>\n",
       "      <td>672.038623</td>\n",
       "    </tr>\n",
       "    <tr>\n",
       "      <td>1703</td>\n",
       "      <td>Zimbabwe</td>\n",
       "      <td>Africa</td>\n",
       "      <td>2007</td>\n",
       "      <td>43.487</td>\n",
       "      <td>12311143</td>\n",
       "      <td>469.709298</td>\n",
       "    </tr>\n",
       "  </tbody>\n",
       "</table>\n",
       "<p>1704 rows × 6 columns</p>\n",
       "</div>"
      ],
      "text/plain": [
       "          country continent  year  lifeExpectancy  population  gdpPerCapita\n",
       "0     Afghanistan      Asia  1952          28.801     8425333    779.445314\n",
       "1     Afghanistan      Asia  1957          30.332     9240934    820.853030\n",
       "2     Afghanistan      Asia  1962          31.997    10267083    853.100710\n",
       "3     Afghanistan      Asia  1967          34.020    11537966    836.197138\n",
       "4     Afghanistan      Asia  1972          36.088    13079460    739.981106\n",
       "...           ...       ...   ...             ...         ...           ...\n",
       "1699     Zimbabwe    Africa  1987          62.351     9216418    706.157306\n",
       "1700     Zimbabwe    Africa  1992          60.377    10704340    693.420786\n",
       "1701     Zimbabwe    Africa  1997          46.809    11404948    792.449960\n",
       "1702     Zimbabwe    Africa  2002          39.989    11926563    672.038623\n",
       "1703     Zimbabwe    Africa  2007          43.487    12311143    469.709298\n",
       "\n",
       "[1704 rows x 6 columns]"
      ]
     },
     "execution_count": 7,
     "metadata": {},
     "output_type": "execute_result"
    }
   ],
   "source": [
    "data = pd.read_csv('countries.csv')\n",
    "data"
   ]
  },
  {
   "cell_type": "code",
   "execution_count": 8,
   "metadata": {},
   "outputs": [
    {
     "data": {
      "text/plain": [
       "{'Africa', 'Americas', 'Asia', 'Europe', 'Oceania'}"
      ]
     },
     "execution_count": 8,
     "metadata": {},
     "output_type": "execute_result"
    }
   ],
   "source": [
    "set(data.continent)"
   ]
  },
  {
   "cell_type": "code",
   "execution_count": 9,
   "metadata": {},
   "outputs": [],
   "source": [
    "data_2007 = data[data.year == 2007]\n",
    "asia_2007 = data_2007[data_2007.continent == 'Asia']\n",
    "europe_2007 = data_2007[data_2007.continent == 'Europe']"
   ]
  },
  {
   "cell_type": "code",
   "execution_count": 10,
   "metadata": {},
   "outputs": [
    {
     "name": "stdout",
     "output_type": "stream",
     "text": [
      "33\n",
      "30\n"
     ]
    }
   ],
   "source": [
    "print(len(set(asia_2007.country)))\n",
    "print(len(set(europe_2007.country)))"
   ]
  },
  {
   "cell_type": "code",
   "execution_count": 11,
   "metadata": {},
   "outputs": [
    {
     "name": "stdout",
     "output_type": "stream",
     "text": [
      "Mean GDP per Capita in Asia:\n",
      "12473.02687013333\n",
      "Mean GDP per Capita in Europe:\n",
      "25054.481635933327\n"
     ]
    }
   ],
   "source": [
    "#mean\n",
    "print('Mean GDP per Capita in Asia:')\n",
    "print(asia_2007.gdpPerCapita.mean())\n",
    "\n",
    "print('Mean GDP per Capita in Europe:')\n",
    "print(europe_2007.gdpPerCapita.mean())"
   ]
  },
  {
   "cell_type": "code",
   "execution_count": 12,
   "metadata": {},
   "outputs": [
    {
     "name": "stdout",
     "output_type": "stream",
     "text": [
      "Median GDP per Capita in Asia:\n",
      "4471.061906\n",
      "Median GDP per Capita in Europe:\n",
      "28054.06579\n"
     ]
    }
   ],
   "source": [
    "#median\n",
    "print('Median GDP per Capita in Asia:')\n",
    "print(asia_2007.gdpPerCapita.median())\n",
    "\n",
    "print('Median GDP per Capita in Europe:')\n",
    "print(europe_2007.gdpPerCapita.median())"
   ]
  },
  {
   "cell_type": "code",
   "execution_count": 16,
   "metadata": {
    "collapsed": true
   },
   "outputs": [
    {
     "data": {
      "image/png": "[encoded data removed]",
      "text/plain": [
       "<Figure size 432x288 with 2 Axes>"
      ]
     },
     "metadata": {
      "needs_background": "light"
     },
     "output_type": "display_data"
    }
   ],
   "source": [
    "#ploting using pyplot\n",
    "\n",
    "plt.subplot(211)\n",
    "plt.title('Distribution of GDP per Capita in Asia and Europe')\n",
    "plt.hist(asia_2007.gdpPerCapita, 20, range=(0,50000), edgecolor='black')\n",
    "plt.ylabel('Asia')\n",
    "plt.subplot(212)\n",
    "plt.hist(europe_2007.gdpPerCapita, 20, range=(0,50000), edgecolor = 'black')\n",
    "plt.ylabel('Europe')\n",
    "plt.savefig('gdpPerCapita.jpeg', dpi = 400)"
   ]
  },
  {
   "cell_type": "code",
   "execution_count": 17,
   "metadata": {},
   "outputs": [],
   "source": [
    "#comparing life expectancy of america and europe using histogram\n",
    "data_1997 = data[data.year == 1997]\n",
    "europe_1997 = data_1997[data_1997.continent == 'Europe']\n",
    "america_1997 = data_1997[data_1997.continent == 'Americas']"
   ]
  },
  {
   "cell_type": "code",
   "execution_count": 18,
   "metadata": {
    "collapsed": true
   },
   "outputs": [
    {
     "name": "stdout",
     "output_type": "stream",
     "text": [
      "Mean LifeExpectancy in Europe:\n",
      "75.50516666666667\n",
      "Mean LifeExpectancy in Americas:\n",
      "71.15048\n"
     ]
    }
   ],
   "source": [
    "#mean\n",
    "print('Mean LifeExpectancy in Europe:')\n",
    "print(europe_1997.lifeExpectancy.mean())\n",
    "\n",
    "print('Mean LifeExpectancy in Americas:')\n",
    "print(america_1997.lifeExpectancy.mean())"
   ]
  },
  {
   "cell_type": "code",
   "execution_count": 19,
   "metadata": {
    "collapsed": true
   },
   "outputs": [
    {
     "name": "stdout",
     "output_type": "stream",
     "text": [
      "Median Life Expectancy in Europe:\n",
      "76.116\n",
      "Median Life Expectancy in Americas:\n",
      "72.146\n"
     ]
    }
   ],
   "source": [
    "#median\n",
    "print('Median Life Expectancy in Europe:')\n",
    "print(europe_1997.lifeExpectancy.median())\n",
    "\n",
    "print('Median Life Expectancy in Americas:')\n",
    "print(america_1997.lifeExpectancy.median())"
   ]
  },
  {
   "cell_type": "code",
   "execution_count": 23,
   "metadata": {
    "collapsed": true
   },
   "outputs": [
    {
     "data": {
      "image/png": "[encoded data removed]",
      "text/plain": [
       "<Figure size 432x288 with 2 Axes>"
      ]
     },
     "metadata": {
      "needs_background": "light"
     },
     "output_type": "display_data"
    }
   ],
   "source": [
    "#plot\n",
    "plt.subplot(211)\n",
    "plt.title('Distribution of Age in Europe and Americas')\n",
    "plt.hist(europe_1997.lifeExpectancy, range=(55,85), edgecolor = 'black')\n",
    "plt.ylabel('Europe')\n",
    "plt.subplot(212)\n",
    "plt.hist(america_1997.lifeExpectancy,  range=(55,85), edgecolor = 'black')\n",
    "plt.ylabel('Americas')\n",
    "plt.savefig('Age.jpeg', dpi = 300)\n",
    "plt.show()"
   ]
  },
  {
   "cell_type": "code",
   "execution_count": null,
   "metadata": {},
   "outputs": [],
   "source": []
  }
 ],
 "metadata": {
  "kernelspec": {
   "display_name": "Python 3",
   "language": "python",
   "name": "python3"
  },
  "language_info": {
   "codemirror_mode": {
    "name": "ipython",
    "version": 3
   },
   "file_extension": ".py",
   "mimetype": "text/x-python",
   "name": "python",
   "nbconvert_exporter": "python",
   "pygments_lexer": "ipython3",
   "version": "3.7.4"
  }
 },
 "nbformat": 4,
 "nbformat_minor": 2
}
